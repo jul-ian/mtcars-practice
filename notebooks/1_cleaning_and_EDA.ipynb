{
 "cells": [
  {
   "cell_type": "markdown",
   "id": "256af781",
   "metadata": {},
   "source": [
    "## Cleaning and Exploratory Data Analysis \n",
    "\n",
    "In this notebook, we will perform the cleaning and exploration of the data.\n"
   ]
  },
  {
   "cell_type": "code",
   "execution_count": null,
   "id": "148f1047",
   "metadata": {},
   "outputs": [],
   "source": []
  }
 ],
 "metadata": {
  "kernelspec": {
   "display_name": "Python 3 (ipykernel)",
   "language": "python",
   "name": "python3"
  },
  "language_info": {
   "codemirror_mode": {
    "name": "ipython",
    "version": 3
   },
   "file_extension": ".py",
   "mimetype": "text/x-python",
   "name": "python",
   "nbconvert_exporter": "python",
   "pygments_lexer": "ipython3",
   "version": "3.10.8"
  }
 },
 "nbformat": 4,
 "nbformat_minor": 5
}
