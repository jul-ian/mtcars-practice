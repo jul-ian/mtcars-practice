{
 "cells": [
  {
   "cell_type": "markdown",
   "id": "632d7db7",
   "metadata": {},
   "source": [
    "### Initial Data Management of mtcars dataset\n",
    "\n",
    "The data was downloaded as a \\*.data file, which we will read using the read_table function of the pandas module. Inspecting the data visually as text, it seems like the delimiter is a variable amount of whitespace. Therefore, we use an appropriate regular expression as the delimiter. The dataset was downloaded with the name mpg-auto, but the more familiar name is mtcars, so we will use that going forward. The documentation provided in the data repository gives us the following attribute information.\n",
    "\n",
    "Attribute Information:\n",
    "1. mpg:           continuous\n",
    "2. cylinders:     multi-valued discrete\n",
    "3. displacement:  continuous\n",
    "4. horsepower:    continuous\n",
    "5. weight:        continuous\n",
    "6. acceleration:  continuous\n",
    "7. model year:    multi-valued discrete\n",
    "8. origin:        multi-valued discrete\n",
    "9. car name:      string (unique for each instance)\n",
    "    \n",
    "We use these as the column names when reading in the data and save it in the more familiar csv form to the *data/processed* directory."
   ]
  },
  {
   "cell_type": "code",
   "execution_count": 1,
   "id": "234abc93",
   "metadata": {},
   "outputs": [],
   "source": [
    "import pandas as pd"
   ]
  },
  {
   "cell_type": "code",
   "execution_count": 2,
   "id": "a4e43969",
   "metadata": {},
   "outputs": [
    {
     "name": "stdout",
     "output_type": "stream",
     "text": [
      "<class 'pandas.core.frame.DataFrame'>\n",
      "RangeIndex: 398 entries, 0 to 397\n",
      "Data columns (total 9 columns):\n",
      " #   Column        Non-Null Count  Dtype  \n",
      "---  ------        --------------  -----  \n",
      " 0   mpg           398 non-null    float64\n",
      " 1   cylinders     398 non-null    int64  \n",
      " 2   displacement  398 non-null    float64\n",
      " 3   horsepower    398 non-null    object \n",
      " 4   weight        398 non-null    float64\n",
      " 5   acceleration  398 non-null    float64\n",
      " 6   model_year    398 non-null    int64  \n",
      " 7   origin        398 non-null    int64  \n",
      " 8   car_name      398 non-null    object \n",
      "dtypes: float64(4), int64(3), object(2)\n",
      "memory usage: 28.1+ KB\n",
      "None \n",
      "\n",
      "              mpg   cylinders  displacement       weight  acceleration  \\\n",
      "count  398.000000  398.000000    398.000000   398.000000    398.000000   \n",
      "mean    23.514573    5.454774    193.425879  2970.424623     15.568090   \n",
      "std      7.815984    1.701004    104.269838   846.841774      2.757689   \n",
      "min      9.000000    3.000000     68.000000  1613.000000      8.000000   \n",
      "25%     17.500000    4.000000    104.250000  2223.750000     13.825000   \n",
      "50%     23.000000    4.000000    148.500000  2803.500000     15.500000   \n",
      "75%     29.000000    8.000000    262.000000  3608.000000     17.175000   \n",
      "max     46.600000    8.000000    455.000000  5140.000000     24.800000   \n",
      "\n",
      "       model_year      origin  \n",
      "count  398.000000  398.000000  \n",
      "mean    76.010050    1.572864  \n",
      "std      3.697627    0.802055  \n",
      "min     70.000000    1.000000  \n",
      "25%     73.000000    1.000000  \n",
      "50%     76.000000    1.000000  \n",
      "75%     79.000000    2.000000  \n",
      "max     82.000000    3.000000  \n"
     ]
    }
   ],
   "source": [
    "mtcars = pd.read_csv(\n",
    "    r\"/home/jul-ian/Github/mtcars-practice/data/raw/auto-mpg.data\", sep=r'\\s+',\n",
    "    names=['mpg', 'cylinders', 'displacement', 'horsepower', 'weight', 'acceleration', 'model_year', 'origin', 'car_name']\n",
    "    )\n",
    "\n",
    "print(mtcars.info(), '\\n')\n",
    "print(mtcars.describe())"
   ]
  },
  {
   "cell_type": "code",
   "execution_count": 3,
   "id": "d60670b7",
   "metadata": {},
   "outputs": [],
   "source": [
    "mtcars.to_csv(r\"/home/jul-ian/Github/mtcars-practice/data/processed/mtcars.csv\")"
   ]
  }
 ],
 "metadata": {
  "kernelspec": {
   "display_name": "Python 3 (ipykernel)",
   "language": "python",
   "name": "python3"
  },
  "language_info": {
   "codemirror_mode": {
    "name": "ipython",
    "version": 3
   },
   "file_extension": ".py",
   "mimetype": "text/x-python",
   "name": "python",
   "nbconvert_exporter": "python",
   "pygments_lexer": "ipython3",
   "version": "3.10.8"
  }
 },
 "nbformat": 4,
 "nbformat_minor": 5
}
