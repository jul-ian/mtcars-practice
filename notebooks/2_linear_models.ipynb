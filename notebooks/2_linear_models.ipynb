{
 "cells": [
  {
   "cell_type": "markdown",
   "id": "fd855f4b",
   "metadata": {},
   "source": [
    "## Linear Models\n",
    "\n",
    "In this notebook, we try to model the data using various linear regression models. We begin by import the necessary modules, as well as loading the train and test data from the train_test directory."
   ]
  },
  {
   "cell_type": "code",
   "execution_count": 5,
   "id": "21eec000",
   "metadata": {},
   "outputs": [],
   "source": [
    "import numpy as np\n",
    "from sklearn.linear_model import LinearRegression, SGDRegressor\n",
    "from sklearn.metrics import mean_squared_error\n",
    "from sklearn.model_selection import cross_val_score\n",
    "\n",
    "from mtcars_practice.config import data_dir"
   ]
  },
  {
   "cell_type": "code",
   "execution_count": 3,
   "id": "b734c187",
   "metadata": {},
   "outputs": [],
   "source": [
    "X_train = np.load(data_dir + '/train_test/X_train.npy')\n",
    "X_test = np.load(data_dir + '/train_test/X_test.npy')\n",
    "\n",
    "y_train = np.load(data_dir + '/train_test/y_train.npy')\n",
    "y_test = np.load(data_dir + '/train_test/y_test.npy')"
   ]
  },
  {
   "cell_type": "markdown",
   "id": "10d8fe6b",
   "metadata": {},
   "source": [
    "We will start with linear regression. Just for curiosities sake, we try both the LinearRegression class, as well as the SGDRegressor class, since the implementations are different. Both of them produce the same RMSE."
   ]
  },
  {
   "cell_type": "code",
   "execution_count": 8,
   "id": "f5d358e7",
   "metadata": {},
   "outputs": [
    {
     "name": "stdout",
     "output_type": "stream",
     "text": [
      "3.1220569526033626\n"
     ]
    }
   ],
   "source": [
    "lin_reg = LinearRegression()\n",
    "lin_reg.fit(X_train, y_train)\n",
    "\n",
    "y_pred = lin_reg.predict(X_train)\n",
    "lin_reg_rmse = np.sqrt(mean_squared_error(y_train, y_pred))\n",
    "\n",
    "print(lin_reg_rmse)"
   ]
  },
  {
   "cell_type": "code",
   "execution_count": 9,
   "id": "cf4de10f",
   "metadata": {},
   "outputs": [
    {
     "name": "stdout",
     "output_type": "stream",
     "text": [
      "3.1220569526033626\n"
     ]
    }
   ],
   "source": [
    "sgd_reg = SGDRegressor()\n",
    "sgd_reg.fit(X_train, y_train)\n",
    "\n",
    "y_pred_sgd = sgd_reg.predict(X_train)\n",
    "sgd_reg_rmse = np.sqrt(mean_squared_error(y_train, y_pred))\n",
    "\n",
    "print(sgd_reg_rmse)"
   ]
  },
  {
   "cell_type": "markdown",
   "id": "a3706827",
   "metadata": {},
   "source": [
    "While we see that the root mean squared error is about 3 mpg over the training set, we would like to measure the generalizability of the model. We try using cross validation to measure this."
   ]
  },
  {
   "cell_type": "code",
   "execution_count": 11,
   "id": "e0da587d",
   "metadata": {},
   "outputs": [
    {
     "name": "stdout",
     "output_type": "stream",
     "text": [
      "[2.78111103 3.0702988  3.81408112 3.2900013 ]\n",
      "3.2388730648939728 0.37796883501639367\n"
     ]
    }
   ],
   "source": [
    "lin_reg = LinearRegression()\n",
    "scores = cross_val_score(lin_reg, X_train, y_train, scoring='neg_mean_squared_error', cv=4)\n",
    "rmse_scores = np.sqrt(-scores)\n",
    "\n",
    "print(rmse_scores)\n",
    "print(rmse_scores.mean(), rmse_scores.std())"
   ]
  }
 ],
 "metadata": {
  "kernelspec": {
   "display_name": "Python 3 (ipykernel)",
   "language": "python",
   "name": "python3"
  },
  "language_info": {
   "codemirror_mode": {
    "name": "ipython",
    "version": 3
   },
   "file_extension": ".py",
   "mimetype": "text/x-python",
   "name": "python",
   "nbconvert_exporter": "python",
   "pygments_lexer": "ipython3",
   "version": "3.10.8"
  }
 },
 "nbformat": 4,
 "nbformat_minor": 5
}
