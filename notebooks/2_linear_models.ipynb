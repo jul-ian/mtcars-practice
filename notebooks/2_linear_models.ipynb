{
 "cells": [
  {
   "cell_type": "markdown",
   "id": "fd855f4b",
   "metadata": {},
   "source": [
    "## Linear Models\n",
    "\n",
    "In this notebook, we try to model the data using various linear regression models. We begin by import the necessary modules, as well as loading the train and test data from the train_test directory."
   ]
  },
  {
   "cell_type": "code",
   "execution_count": 1,
   "id": "21eec000",
   "metadata": {},
   "outputs": [],
   "source": [
    "import numpy as np\n",
    "from sklearn.linear_model import LinearRegression, SGDRegressor\n",
    "\n",
    "from mtcars_practice.config import data_dir"
   ]
  },
  {
   "cell_type": "code",
   "execution_count": 2,
   "id": "b734c187",
   "metadata": {},
   "outputs": [],
   "source": [
    "X_train = np.load(data_dir + '/train_test/X_train.npy')\n",
    "X_test = np.load(data_dir + '/train_test/X_test.npy')\n",
    "\n",
    "y_train = np.load(data_dir + '/train_test/y_train.npy')\n",
    "y_test = np.load(data_dir + '/train_test/y_test.npy')"
   ]
  },
  {
   "cell_type": "markdown",
   "id": "10d8fe6b",
   "metadata": {},
   "source": []
  },
  {
   "cell_type": "code",
   "execution_count": null,
   "id": "f5d358e7",
   "metadata": {},
   "outputs": [],
   "source": []
  }
 ],
 "metadata": {
  "kernelspec": {
   "display_name": "Python 3 (ipykernel)",
   "language": "python",
   "name": "python3"
  },
  "language_info": {
   "codemirror_mode": {
    "name": "ipython",
    "version": 3
   },
   "file_extension": ".py",
   "mimetype": "text/x-python",
   "name": "python",
   "nbconvert_exporter": "python",
   "pygments_lexer": "ipython3",
   "version": "3.10.8"
  }
 },
 "nbformat": 4,
 "nbformat_minor": 5
}
