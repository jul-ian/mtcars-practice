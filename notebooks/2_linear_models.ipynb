{
 "cells": [
  {
   "cell_type": "markdown",
   "id": "fd855f4b",
   "metadata": {},
   "source": [
    "## Linear Models\n",
    "\n",
    "In this notebook, we try to model the data using a linear regression model. We begin by import the necessary modules, as well as loading the train and test data from the train_test directory."
   ]
  },
  {
   "cell_type": "code",
   "execution_count": 1,
   "id": "21eec000",
   "metadata": {},
   "outputs": [],
   "source": [
    "import numpy as np\n",
    "from sklearn.linear_model import LinearRegression, SGDRegressor, Ridge, Lasso, ElasticNet\n",
    "from sklearn.metrics import mean_squared_error\n",
    "from sklearn.model_selection import cross_val_score\n",
    "\n",
    "from mtcars_practice.config import data_dir"
   ]
  },
  {
   "cell_type": "code",
   "execution_count": 2,
   "id": "b734c187",
   "metadata": {},
   "outputs": [],
   "source": [
    "X_train = np.load(data_dir + '/train_test/X_train.npy')\n",
    "X_test = np.load(data_dir + '/train_test/X_test.npy')\n",
    "\n",
    "y_train = np.load(data_dir + '/train_test/y_train.npy')\n",
    "y_test = np.load(data_dir + '/train_test/y_test.npy')"
   ]
  },
  {
   "cell_type": "markdown",
   "id": "10d8fe6b",
   "metadata": {},
   "source": [
    "We will start with linear regression. Just for curiosities sake, we try both the LinearRegression class, as well as the SGDRegressor class, since the implementations are different. The SGDRegressor actually produces a higher RMSE, probably due to the SGD algorithm settling on an unoptimal solution. We will continue with the LinearRegressor class for the rest of the the modeling."
   ]
  },
  {
   "cell_type": "code",
   "execution_count": 3,
   "id": "f5d358e7",
   "metadata": {},
   "outputs": [
    {
     "name": "stdout",
     "output_type": "stream",
     "text": [
      "3.1220569526033626\n"
     ]
    }
   ],
   "source": [
    "lin_reg = LinearRegression()\n",
    "lin_reg.fit(X_train, y_train)\n",
    "\n",
    "y_pred = lin_reg.predict(X_train)\n",
    "lin_reg_rmse = np.sqrt(mean_squared_error(y_train, y_pred))\n",
    "\n",
    "print(lin_reg_rmse)"
   ]
  },
  {
   "cell_type": "code",
   "execution_count": 4,
   "id": "cf4de10f",
   "metadata": {},
   "outputs": [
    {
     "name": "stdout",
     "output_type": "stream",
     "text": [
      "3.902317609532293\n"
     ]
    }
   ],
   "source": [
    "sgd_reg = SGDRegressor()\n",
    "sgd_reg.fit(X_train, y_train)\n",
    "\n",
    "y_pred_sgd = sgd_reg.predict(X_train)\n",
    "sgd_reg_rmse = np.sqrt(mean_squared_error(y_train, y_pred_sgd))\n",
    "\n",
    "print(sgd_reg_rmse)"
   ]
  },
  {
   "cell_type": "markdown",
   "id": "a3706827",
   "metadata": {},
   "source": [
    "While we see that the root mean squared error is about 3 mpg over the entire training set, we would like to measure the generalizability of the model. We try using cross validation to measure this."
   ]
  },
  {
   "cell_type": "code",
   "execution_count": 6,
   "id": "e0da587d",
   "metadata": {},
   "outputs": [
    {
     "name": "stdout",
     "output_type": "stream",
     "text": [
      "[2.78111103 3.0702988  3.81408112 3.2900013 ] \n",
      "\n",
      "Mean RMSE:  3.2388730648939728\n",
      "Std RMSE:  0.37796883501639367\n"
     ]
    }
   ],
   "source": [
    "lin_reg = LinearRegression()\n",
    "scores_lin = cross_val_score(lin_reg, X_train, y_train, scoring='neg_mean_squared_error', cv=4)\n",
    "rmse_scores_lin = np.sqrt(-scores)\n",
    "\n",
    "print(rmse_scores_lin, '\\n')\n",
    "print('Mean RMSE: ', rmse_scores_lin.mean())\n",
    "print('Std RMSE: ', rmse_scores_lin.std())"
   ]
  },
  {
   "cell_type": "markdown",
   "id": "4c6e333d",
   "metadata": {},
   "source": [
    "It is possible the pure linear regression model is overfitting, so we can try to regularize the model. We can try Ridge, Lasso, and Elastic Net regression to add a degree of normalization to the model.\n",
    "\n",
    "The RMSE of the Ridge regression model actually ends up being slightly higher using a coefficient of 1."
   ]
  },
  {
   "cell_type": "code",
   "execution_count": 11,
   "id": "c06829cc",
   "metadata": {},
   "outputs": [
    {
     "name": "stdout",
     "output_type": "stream",
     "text": [
      "[2.82016917 3.06479369 3.84565084 3.22690326] \n",
      "\n",
      "Mean RMSE:  3.2393792396047205\n",
      "Std RMSE:  0.3787935120129052\n"
     ]
    }
   ],
   "source": [
    "ridge_reg = Ridge(alpha=0.5, solver='cholesky')\n",
    "scores_ridge = cross_val_score(ridge_reg, X_train, y_train, scoring='neg_mean_squared_error', cv=4)\n",
    "rmse_scores_ridge = np.sqrt(-scores_ridge)\n",
    "\n",
    "print(rmse_scores_ridge, '\\n')\n",
    "print('Mean RMSE: ', rmse_scores_ridge.mean())\n",
    "print('Std RMSE: ', rmse_scores_ridge.std())"
   ]
  },
  {
   "cell_type": "code",
   "execution_count": 15,
   "id": "89ecbc23",
   "metadata": {},
   "outputs": [
    {
     "name": "stdout",
     "output_type": "stream",
     "text": [
      "[2.99362495 3.1981228  3.90388921 3.31271714] \n",
      "\n",
      "Mean RMSE:  3.3520885245278143\n",
      "Std RMSE:  0.3384655368117302\n"
     ]
    }
   ],
   "source": [
    "lasso_reg = Lasso(alpha=0.1)\n",
    "scores_lasso = cross_val_score(lasso_reg, X_train, y_train, scoring='neg_mean_squared_error', cv=4)\n",
    "rmse_scores_lasso = np.sqrt(-scores_lasso)\n",
    "\n",
    "print(rmse_scores_lasso, '\\n')\n",
    "print('Mean RMSE: ', rmse_scores_lasso.mean())\n",
    "print('Std RMSE: ', rmse_scores_lasso.std())"
   ]
  },
  {
   "cell_type": "code",
   "execution_count": 17,
   "id": "cd33cd75",
   "metadata": {},
   "outputs": [
    {
     "name": "stdout",
     "output_type": "stream",
     "text": [
      "[3.32493105 3.41076207 4.08204827 3.70663456] \n",
      "\n",
      "Mean RMSE:  3.631093989511821\n",
      "Std RMSE:  0.29637309388251093\n"
     ]
    }
   ],
   "source": [
    "elnet_reg = ElasticNet(alpha=0.1, l1_ratio=0.5)\n",
    "scores_elnet = cross_val_score(elnet_reg, X_train, y_train, scoring='neg_mean_squared_error', cv=4)\n",
    "rmse_scores_elnet = np.sqrt(-scores_elnet)\n",
    "\n",
    "print(rmse_scores_elnet, '\\n')\n",
    "print('Mean RMSE: ', rmse_scores_elnet.mean())\n",
    "print('Std RMSE: ', rmse_scores_elnet.std())"
   ]
  },
  {
   "cell_type": "markdown",
   "id": "dd8b2b33",
   "metadata": {},
   "source": [
    "For curiosities sake, we would like to see the performance of each model on the test dataset."
   ]
  },
  {
   "cell_type": "code",
   "execution_count": 25,
   "id": "94d50b5a",
   "metadata": {},
   "outputs": [
    {
     "name": "stdout",
     "output_type": "stream",
     "text": [
      "Model: LinearRegression()  RMSE: 2.7556148834117464\n",
      "\n",
      "Model: Ridge(alpha=0.5, solver='cholesky')  RMSE: 2.8017895090837035\n",
      "\n",
      "Model: Lasso(alpha=0.1)  RMSE: 2.894542712268647\n",
      "\n",
      "Model: ElasticNet(alpha=0.1)  RMSE: 3.167661044403877\n",
      "\n"
     ]
    }
   ],
   "source": [
    "lin_reg = LinearRegression()\n",
    "ridge_reg = Ridge(alpha=0.5, solver='cholesky')\n",
    "lasso_reg = Lasso(alpha=0.1)\n",
    "elnet_reg = ElasticNet(alpha=0.1, l1_ratio=0.5)\n",
    "\n",
    "for model in (lin_reg, ridge_reg, lasso_reg, elnet_reg):\n",
    "    model.fit(X_train, y_train)\n",
    "    y_pred = model.predict(X_test)\n",
    "    rmse = np.sqrt(mean_squared_error(y_test, y_pred))\n",
    "    print(f'Model: {model}  RMSE: {rmse}\\n')"
   ]
  }
 ],
 "metadata": {
  "kernelspec": {
   "display_name": "Python 3 (ipykernel)",
   "language": "python",
   "name": "python3"
  },
  "language_info": {
   "codemirror_mode": {
    "name": "ipython",
    "version": 3
   },
   "file_extension": ".py",
   "mimetype": "text/x-python",
   "name": "python",
   "nbconvert_exporter": "python",
   "pygments_lexer": "ipython3",
   "version": "3.10.8"
  }
 },
 "nbformat": 4,
 "nbformat_minor": 5
}
