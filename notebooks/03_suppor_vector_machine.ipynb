{
 "cells": [
  {
   "cell_type": "markdown",
   "id": "ee0d5b56",
   "metadata": {},
   "source": [
    "## Support Vector Machines\n",
    "\n",
    "Previously, we attempted to predict an automobiles mpg as a function of several variables by using linear models. But this type of model does not have the flexibility to fit nonlinear relationships, which is possibly exhibited by the data. Therefore, in this notebook, we attempt to fix more complex models to the data, namely support vector machines."
   ]
  },
  {
   "cell_type": "code",
   "execution_count": 4,
   "id": "6280b43a",
   "metadata": {},
   "outputs": [],
   "source": [
    "import numpy as np\n",
    "from sklearn.svm import LinearSVR, SVR\n",
    "from sklearn.metrics import mean_squared_error\n",
    "from sklearn.model_selection import cross_val_score, GridSearchCV\n",
    "\n",
    "from mtcars_practice.config import data_dir"
   ]
  },
  {
   "cell_type": "code",
   "execution_count": 5,
   "id": "3cbaa3c7",
   "metadata": {},
   "outputs": [],
   "source": [
    "X_train = np.load(data_dir + '/train_test/X_train.npy')\n",
    "X_test = np.load(data_dir + '/train_test/X_test.npy')\n",
    "\n",
    "y_train = np.load(data_dir + '/train_test/y_train.npy')\n",
    "y_test = np.load(data_dir + '/train_test/y_test.npy')"
   ]
  },
  {
   "cell_type": "markdown",
   "id": "8787a805",
   "metadata": {},
   "source": [
    "<br>\n",
    "\n",
    "The LinearSVR and SVR classes implement support vector machines (svm) in scikit-learn. Linear svm use a linear kernel function, and both LinearSVR and SVR implement these, although LinearSVR is faster. We will implement a linear svm using LinearSVR\n",
    "\n",
    "<br>"
   ]
  },
  {
   "cell_type": "code",
   "execution_count": 7,
   "id": "eeb24b00",
   "metadata": {},
   "outputs": [
    {
     "name": "stdout",
     "output_type": "stream",
     "text": [
      "3.5432664933998725\n"
     ]
    }
   ],
   "source": [
    "lin_svm = LinearSVR(epsilon=1.5)\n",
    "lin_svm.fit(X_train, y_train)\n",
    "\n",
    "y_pred = lin_svm.predict(X_train)\n",
    "svm_rmse = np.sqrt(mean_squared_error(y_train, y_pred))\n",
    "\n",
    "print(svm_rmse)"
   ]
  },
  {
   "cell_type": "code",
   "execution_count": 9,
   "id": "5de94c03",
   "metadata": {},
   "outputs": [
    {
     "name": "stdout",
     "output_type": "stream",
     "text": [
      "[0.72868217 0.74860335 0.58151403 0.17857143 0.         0.\n",
      " 0.         0.         1.         1.         0.         0.\n",
      " 3.        ]\n"
     ]
    }
   ],
   "source": [
    "print(X_train[0, :])"
   ]
  }
 ],
 "metadata": {
  "kernelspec": {
   "display_name": "Python 3 (ipykernel)",
   "language": "python",
   "name": "python3"
  },
  "language_info": {
   "codemirror_mode": {
    "name": "ipython",
    "version": 3
   },
   "file_extension": ".py",
   "mimetype": "text/x-python",
   "name": "python",
   "nbconvert_exporter": "python",
   "pygments_lexer": "ipython3",
   "version": "3.10.8"
  }
 },
 "nbformat": 4,
 "nbformat_minor": 5
}
